{
  "nbformat": 4,
  "nbformat_minor": 0,
  "metadata": {
    "colab": {
      "provenance": []
    },
    "kernelspec": {
      "name": "python3",
      "display_name": "Python 3"
    },
    "language_info": {
      "name": "python"
    }
  },
  "cells": [
    {
      "cell_type": "code",
      "execution_count": 1,
      "metadata": {
        "id": "VfC7ir51PmBm"
      },
      "outputs": [],
      "source": [
        "class Atm:\n",
        "   #constructor(special function)--> exicutes automatically <--superpower\n",
        "  def __init__(self):\n",
        "    self.pin = \"\"\n",
        "    self.balance = 0\n",
        "    self.menu()\n",
        "    print(id(self))\n",
        "\n",
        "  def menu(self):\n",
        "    user_input = input(\"\"\"\n",
        "    Hi how can I help you?\n",
        "    1.Press 1 to create your pin\n",
        "    2.Press 2 to change pin\n",
        "    3.Press 3 to check balance\n",
        "    4.Press 4 to withdraw\n",
        "    5.Anythonh else exit\n",
        "    \"\"\")\n",
        "    if user_input == '1':\n",
        "      #create pin\n",
        "      self.create_pin()\n",
        "    elif user_input == '2':\n",
        "      #change pin\n",
        "      self.change_pin()\n",
        "    elif user_input == '3':\n",
        "      #check balance\n",
        "      self.check_balance()\n",
        "    elif user_input == '4':\n",
        "      #withdraw\n",
        "      self.withdraw()\n",
        "    else:\n",
        "      exit()\n",
        "  def create_pin(self):\n",
        "    user_pin = input('enter the pin')\n",
        "    self.pin = user_pin\n",
        "    user_balance = int(input('enter balance'))\n",
        "    self.balance = user_balance\n",
        "    print('Pin created successfully')\n",
        "    self.menu()\n",
        "  def change_pin(self):\n",
        "    old_pin = input('enter old pin')\n",
        "    if old_pin == self.pin:\n",
        "      new_pin = input('enter the pin')\n",
        "      self.pin = new_pin\n",
        "      print('Pin changed successfully')\n",
        "    else:\n",
        "      print('Invilid pin try again')\n",
        "    self.menu()\n",
        "  def withdraw(self):\n",
        "    user_pin = input('enter yor pin')\n",
        "    if user_pin == self.pin:\n",
        "      amount = int(input('enter the amout u want to withdraw'))\n",
        "      if self.balance >= amount:\n",
        "        self.balance = self.balance-amount\n",
        "        print(\"withdrawl successful your current balance is\", self.balance)\n",
        "      else:\n",
        "        print('Insufficent funds')\n",
        "    else:\n",
        "      print(\"Invilid pin try again\")\n",
        "    self.menu()\n",
        "  def check_balance(self):\n",
        "    user_pin = input('enter your pin')\n",
        "    if user_pin == self.pin:\n",
        "      print('your balance is', self.balance)\n",
        "    else:\n",
        "      print('Invilid pin try again')\n",
        "    self.menu()"
      ]
    },
    {
      "cell_type": "code",
      "source": [
        "x = Atm()"
      ],
      "metadata": {
        "colab": {
          "base_uri": "https://localhost:8080/"
        },
        "id": "wv82r9DFZByJ",
        "outputId": "9c87075c-ace0-49eb-d51a-52926d8921f5"
      },
      "execution_count": 2,
      "outputs": [
        {
          "output_type": "stream",
          "name": "stdout",
          "text": [
            "\n",
            "    Hi how can I help you?\n",
            "    1.Press 1 to create your pin\n",
            "    2.Press 2 to change pin\n",
            "    3.Press 3 to check balance\n",
            "    4.Press 4 to withdraw\n",
            "    5.Anythonh else exit\n",
            "    5\n",
            "132850860271472\n"
          ]
        }
      ]
    },
    {
      "cell_type": "code",
      "source": [
        "id(x)"
      ],
      "metadata": {
        "colab": {
          "base_uri": "https://localhost:8080/"
        },
        "id": "hx8h3-U4gLsD",
        "outputId": "f884d1d4-0878-4838-8af7-613e452ca93d"
      },
      "execution_count": 3,
      "outputs": [
        {
          "output_type": "execute_result",
          "data": {
            "text/plain": [
              "132850860271472"
            ]
          },
          "metadata": {},
          "execution_count": 3
        }
      ]
    },
    {
      "cell_type": "code",
      "source": [
        "print(type(x))"
      ],
      "metadata": {
        "colab": {
          "base_uri": "https://localhost:8080/"
        },
        "id": "f4hLOTZzYlvo",
        "outputId": "05ad86e2-6332-42c5-e952-2d12bbb16757"
      },
      "execution_count": 4,
      "outputs": [
        {
          "output_type": "stream",
          "name": "stdout",
          "text": [
            "<class '__main__.Atm'>\n"
          ]
        }
      ]
    },
    {
      "cell_type": "code",
      "source": [],
      "metadata": {
        "id": "QuJSlRF3Yoet"
      },
      "execution_count": 4,
      "outputs": []
    }
  ]
}